{
 "cells": [
  {
   "cell_type": "markdown",
   "metadata": {},
   "source": [
    "# Variable Coefficient Poisson"
   ]
  },
  {
   "cell_type": "markdown",
   "metadata": {},
   "source": [
    "We want to solve an equation of the form $\\nabla \\cdot (\\alpha \\nabla \\phi) = f$\n",
    "\n",
    "We'll do this with periodic boundary conditions.  Consider the coefficient $\\alpha$ of the form:\n",
    "\n",
    "$$\\alpha = 2 + \\cos(2 \\pi x) * cos(2*\\pi x)$$\n",
    "\n",
    "and the source, $f$:\n",
    "\n",
    "$$f = -16 \\pi^2 \\left ( \\cos(2 \\pi x) \\cos(2\\pi y) + 1 \\right ) \\sin(2\\pi x) \\sin(2\\pi y)$$\n",
    "\n",
    "The solution to this (with periodic BCs) is:\n",
    "\n",
    "$$\\phi = \\sin(2\\pi x) \\sin(2\\pi y)$$"
   ]
  },
  {
   "cell_type": "code",
   "execution_count": 1,
   "metadata": {
    "collapsed": false,
    "jupyter": {
     "outputs_hidden": false
    },
    "tags": []
   },
   "outputs": [],
   "source": [
    "import numpy as np\n",
    "import matplotlib.pyplot as plt"
   ]
  },
  {
   "cell_type": "markdown",
   "metadata": {},
   "source": [
    "## Setting up the solver"
   ]
  },
  {
   "cell_type": "code",
   "execution_count": 2,
   "metadata": {
    "tags": []
   },
   "outputs": [],
   "source": [
    "import pyro.multigrid.variable_coeff_MG as MG"
   ]
  },
  {
   "cell_type": "code",
   "execution_count": 3,
   "metadata": {
    "tags": []
   },
   "outputs": [],
   "source": [
    "def true(x, y):\n",
    "    return np.sin(2.0*np.pi*x)*np.sin(2.0*np.pi*y)"
   ]
  },
  {
   "cell_type": "code",
   "execution_count": 4,
   "metadata": {
    "tags": []
   },
   "outputs": [],
   "source": [
    "def alpha(x, y):\n",
    "    return 2.0 + np.cos(2.0*np.pi*x)*np.cos(2.0*np.pi*y)"
   ]
  },
  {
   "cell_type": "code",
   "execution_count": 5,
   "metadata": {
    "tags": []
   },
   "outputs": [],
   "source": [
    "def f(x, y):\n",
    "    return -16.0*np.pi**2*(np.cos(2*np.pi*x)*np.cos(2*np.pi*y) + 1) * \\\n",
    "        np.sin(2*np.pi*x)*np.sin(2*np.pi*y)"
   ]
  },
  {
   "cell_type": "markdown",
   "metadata": {},
   "source": [
    "Let's create a patch to store the coefficient $\\alpha$"
   ]
  },
  {
   "cell_type": "code",
   "execution_count": 6,
   "metadata": {
    "tags": []
   },
   "outputs": [],
   "source": [
    "from pyro.mesh import patch\n",
    "import pyro.mesh.boundary as bnd"
   ]
  },
  {
   "cell_type": "code",
   "execution_count": 7,
   "metadata": {
    "tags": []
   },
   "outputs": [],
   "source": [
    "N = 128\n",
    "\n",
    "g = patch.Grid2d(N, N, ng=1)\n",
    "d = patch.CellCenterData2d(g)\n",
    "bc_alpha = bnd.BC(xlb=\"periodic\", xrb=\"periodic\",\n",
    "                  ylb=\"periodic\", yrb=\"periodic\")\n",
    "d.register_var(\"alpha\", bc_alpha)\n",
    "d.create()"
   ]
  },
  {
   "cell_type": "markdown",
   "metadata": {},
   "source": [
    "Now we can fill the coefficient"
   ]
  },
  {
   "cell_type": "code",
   "execution_count": 8,
   "metadata": {
    "tags": []
   },
   "outputs": [],
   "source": [
    "a = d.get_var(\"alpha\")\n",
    "a[:, :] = alpha(g.x2d, g.y2d)"
   ]
  },
  {
   "cell_type": "markdown",
   "metadata": {},
   "source": [
    "With periodic BCs, solvability requires that $f$ sum to zero over the domain.  Let's check that."
   ]
  },
  {
   "cell_type": "code",
   "execution_count": 9,
   "metadata": {
    "tags": []
   },
   "outputs": [
    {
     "name": "stdout",
     "output_type": "stream",
     "text": [
      "rhs sum: 3.406203297933244e-12\n"
     ]
    }
   ],
   "source": [
    "rhs = f(g.x2d, g.y2d)\n",
    "print(f\"rhs sum: {np.sum(rhs[g.ilo:g.ihi+1, g.jlo:g.jhi+1])}\")"
   ]
  },
  {
   "cell_type": "markdown",
   "metadata": {},
   "source": [
    "Now we can create the multigrid object"
   ]
  },
  {
   "cell_type": "code",
   "execution_count": 10,
   "metadata": {
    "tags": []
   },
   "outputs": [
    {
     "name": "stdout",
     "output_type": "stream",
     "text": [
      "cc data: nx = 2, ny = 2, ng = 1\n",
      "         nvars = 4\n",
      "         variables:\n",
      "               v: min:    0.0000000000    max:    0.0000000000\n",
      "                  BCs: -x: periodic     +x: periodic     -y: periodic     +y: periodic    \n",
      "               f: min:    0.0000000000    max:    0.0000000000\n",
      "                  BCs: -x: periodic     +x: periodic     -y: periodic     +y: periodic    \n",
      "               r: min:    0.0000000000    max:    0.0000000000\n",
      "                  BCs: -x: periodic     +x: periodic     -y: periodic     +y: periodic    \n",
      "          coeffs: min:    0.0000000000    max:    0.0000000000\n",
      "                  BCs: -x: periodic     +x: periodic     -y: periodic     +y: periodic    \n",
      "\n",
      "cc data: nx = 4, ny = 4, ng = 1\n",
      "         nvars = 4\n",
      "         variables:\n",
      "               v: min:    0.0000000000    max:    0.0000000000\n",
      "                  BCs: -x: periodic     +x: periodic     -y: periodic     +y: periodic    \n",
      "               f: min:    0.0000000000    max:    0.0000000000\n",
      "                  BCs: -x: periodic     +x: periodic     -y: periodic     +y: periodic    \n",
      "               r: min:    0.0000000000    max:    0.0000000000\n",
      "                  BCs: -x: periodic     +x: periodic     -y: periodic     +y: periodic    \n",
      "          coeffs: min:    0.0000000000    max:    0.0000000000\n",
      "                  BCs: -x: periodic     +x: periodic     -y: periodic     +y: periodic    \n",
      "\n",
      "cc data: nx = 8, ny = 8, ng = 1\n",
      "         nvars = 4\n",
      "         variables:\n",
      "               v: min:    0.0000000000    max:    0.0000000000\n",
      "                  BCs: -x: periodic     +x: periodic     -y: periodic     +y: periodic    \n",
      "               f: min:    0.0000000000    max:    0.0000000000\n",
      "                  BCs: -x: periodic     +x: periodic     -y: periodic     +y: periodic    \n",
      "               r: min:    0.0000000000    max:    0.0000000000\n",
      "                  BCs: -x: periodic     +x: periodic     -y: periodic     +y: periodic    \n",
      "          coeffs: min:    0.0000000000    max:    0.0000000000\n",
      "                  BCs: -x: periodic     +x: periodic     -y: periodic     +y: periodic    \n",
      "\n",
      "cc data: nx = 16, ny = 16, ng = 1\n",
      "         nvars = 4\n",
      "         variables:\n",
      "               v: min:    0.0000000000    max:    0.0000000000\n",
      "                  BCs: -x: periodic     +x: periodic     -y: periodic     +y: periodic    \n",
      "               f: min:    0.0000000000    max:    0.0000000000\n",
      "                  BCs: -x: periodic     +x: periodic     -y: periodic     +y: periodic    \n",
      "               r: min:    0.0000000000    max:    0.0000000000\n",
      "                  BCs: -x: periodic     +x: periodic     -y: periodic     +y: periodic    \n",
      "          coeffs: min:    0.0000000000    max:    0.0000000000\n",
      "                  BCs: -x: periodic     +x: periodic     -y: periodic     +y: periodic    \n",
      "\n",
      "cc data: nx = 32, ny = 32, ng = 1\n",
      "         nvars = 4\n",
      "         variables:\n",
      "               v: min:    0.0000000000    max:    0.0000000000\n",
      "                  BCs: -x: periodic     +x: periodic     -y: periodic     +y: periodic    \n",
      "               f: min:    0.0000000000    max:    0.0000000000\n",
      "                  BCs: -x: periodic     +x: periodic     -y: periodic     +y: periodic    \n",
      "               r: min:    0.0000000000    max:    0.0000000000\n",
      "                  BCs: -x: periodic     +x: periodic     -y: periodic     +y: periodic    \n",
      "          coeffs: min:    0.0000000000    max:    0.0000000000\n",
      "                  BCs: -x: periodic     +x: periodic     -y: periodic     +y: periodic    \n",
      "\n",
      "cc data: nx = 64, ny = 64, ng = 1\n",
      "         nvars = 4\n",
      "         variables:\n",
      "               v: min:    0.0000000000    max:    0.0000000000\n",
      "                  BCs: -x: periodic     +x: periodic     -y: periodic     +y: periodic    \n",
      "               f: min:    0.0000000000    max:    0.0000000000\n",
      "                  BCs: -x: periodic     +x: periodic     -y: periodic     +y: periodic    \n",
      "               r: min:    0.0000000000    max:    0.0000000000\n",
      "                  BCs: -x: periodic     +x: periodic     -y: periodic     +y: periodic    \n",
      "          coeffs: min:    0.0000000000    max:    0.0000000000\n",
      "                  BCs: -x: periodic     +x: periodic     -y: periodic     +y: periodic    \n",
      "\n",
      "cc data: nx = 128, ny = 128, ng = 1\n",
      "         nvars = 4\n",
      "         variables:\n",
      "               v: min:    0.0000000000    max:    0.0000000000\n",
      "                  BCs: -x: periodic     +x: periodic     -y: periodic     +y: periodic    \n",
      "               f: min:    0.0000000000    max:    0.0000000000\n",
      "                  BCs: -x: periodic     +x: periodic     -y: periodic     +y: periodic    \n",
      "               r: min:    0.0000000000    max:    0.0000000000\n",
      "                  BCs: -x: periodic     +x: periodic     -y: periodic     +y: periodic    \n",
      "          coeffs: min:    0.0000000000    max:    0.0000000000\n",
      "                  BCs: -x: periodic     +x: periodic     -y: periodic     +y: periodic    \n",
      "\n"
     ]
    }
   ],
   "source": [
    "mg = MG.VarCoeffCCMG2d(N, N,\n",
    "                       xl_BC_type=\"periodic\", yl_BC_type=\"periodic\",\n",
    "                       xr_BC_type=\"periodic\", yr_BC_type=\"periodic\",\n",
    "                       coeffs=a, coeffs_bc=bc_alpha,\n",
    "                       verbose=1, vis=0, true_function=true)"
   ]
  },
  {
   "cell_type": "markdown",
   "metadata": {},
   "source": [
    "Initialize the solution to 0"
   ]
  },
  {
   "cell_type": "code",
   "execution_count": 11,
   "metadata": {
    "tags": []
   },
   "outputs": [],
   "source": [
    "mg.init_zeros()"
   ]
  },
  {
   "cell_type": "markdown",
   "metadata": {},
   "source": [
    "Now initialize the RHS"
   ]
  },
  {
   "cell_type": "code",
   "execution_count": 12,
   "metadata": {
    "tags": []
   },
   "outputs": [
    {
     "name": "stdout",
     "output_type": "stream",
     "text": [
      "Source norm =  81.38684285750472\n"
     ]
    }
   ],
   "source": [
    "rhs = f(mg.x2d, mg.y2d)\n",
    "mg.init_RHS(rhs)"
   ]
  },
  {
   "cell_type": "markdown",
   "metadata": {},
   "source": [
    "## Solving the system"
   ]
  },
  {
   "cell_type": "code",
   "execution_count": 13,
   "metadata": {
    "tags": []
   },
   "outputs": [
    {
     "name": "stdout",
     "output_type": "stream",
     "text": [
      "source norm =  81.38684285750472\n",
      "<<< beginning V-cycle (cycle 1) >>>\n",
      "\n",
      "  level: 6, grid: 128 x 128\n",
      "  before G-S, residual L2: 81.38684285750472\n",
      "  after G-S, residual L2: 112.0908331315555\n",
      "\n",
      "  level: 5, grid: 64 x 64\n",
      "  before G-S, residual L2: 79.20476910530611\n",
      "  after G-S, residual L2: 101.02040748025243\n",
      "\n",
      "  level: 4, grid: 32 x 32\n",
      "  before G-S, residual L2: 71.24113182887879\n",
      "  after G-S, residual L2: 68.07049203593525\n",
      "\n",
      "  level: 3, grid: 16 x 16\n",
      "  before G-S, residual L2: 47.65766921623646\n",
      "  after G-S, residual L2: 14.457805865685271\n",
      "\n",
      "  level: 2, grid: 8 x 8\n",
      "  before G-S, residual L2: 9.844801065610541\n",
      "  after G-S, residual L2: 0.017140908875684105\n",
      "\n",
      "  level: 1, grid: 4 x 4\n",
      "  before G-S, residual L2: 0.010614107357162545\n",
      "  after G-S, residual L2: 5.960897793894367e-16\n",
      "\n",
      "  bottom solve:\n",
      "  level: 0, grid: 2 x 2\n",
      "\n",
      "  level: 1, grid: 4 x 4\n",
      "  before G-S, residual L2: 1.0834180107377754e-15\n",
      "  after G-S, residual L2: 5.96089897709959e-16\n",
      "\n",
      "  level: 2, grid: 8 x 8\n",
      "  before G-S, residual L2: 0.016824300188006493\n",
      "  after G-S, residual L2: 5.923427093762919e-06\n",
      "\n",
      "  level: 3, grid: 16 x 16\n",
      "  before G-S, residual L2: 14.490074298606162\n",
      "  after G-S, residual L2: 0.29986555275211024\n",
      "\n",
      "  level: 4, grid: 32 x 32\n",
      "  before G-S, residual L2: 69.37103937480299\n",
      "  after G-S, residual L2: 1.4310505086782221\n",
      "\n",
      "  level: 5, grid: 64 x 64\n",
      "  before G-S, residual L2: 103.88409363790088\n",
      "  after G-S, residual L2: 1.9330552480770293\n",
      "\n",
      "  level: 6, grid: 128 x 128\n",
      "  before G-S, residual L2: 115.5108718795978\n",
      "  after G-S, residual L2: 2.0813236343996566\n",
      "\n",
      "cycle 1: relative err = 1.0000000000000007, residual err = 0.02557321996190121\n",
      "\n",
      "<<< beginning V-cycle (cycle 2) >>>\n",
      "\n",
      "  level: 6, grid: 128 x 128\n",
      "  before G-S, residual L2: 2.0813236343996566\n",
      "  after G-S, residual L2: 2.0286144000822977\n",
      "\n",
      "  level: 5, grid: 64 x 64\n",
      "  before G-S, residual L2: 1.4344055030175729\n",
      "  after G-S, residual L2: 1.8368397975808146\n",
      "\n",
      "  level: 4, grid: 32 x 32\n",
      "  before G-S, residual L2: 1.2987058278437036\n",
      "  after G-S, residual L2: 1.241442108554593\n",
      "\n",
      "  level: 3, grid: 16 x 16\n",
      "  before G-S, residual L2: 0.8774520735275131\n",
      "  after G-S, residual L2: 0.2560408781548493\n",
      "\n",
      "  level: 2, grid: 8 x 8\n",
      "  before G-S, residual L2: 0.18058839541897165\n",
      "  after G-S, residual L2: 0.00027228502856058054\n",
      "\n",
      "  level: 1, grid: 4 x 4\n",
      "  before G-S, residual L2: 0.00018744703409169443\n",
      "  after G-S, residual L2: 7.263727879510097e-16\n",
      "\n",
      "  bottom solve:\n",
      "  level: 0, grid: 2 x 2\n",
      "\n",
      "  level: 1, grid: 4 x 4\n",
      "  before G-S, residual L2: 1.3199121690260573e-15\n",
      "  after G-S, residual L2: 7.263837575970778e-16\n",
      "\n",
      "  level: 2, grid: 8 x 8\n",
      "  before G-S, residual L2: 0.0002985535823679947\n",
      "  after G-S, residual L2: 1.1883088366116377e-07\n",
      "\n",
      "  level: 3, grid: 16 x 16\n",
      "  before G-S, residual L2: 0.33718020660845777\n",
      "  after G-S, residual L2: 0.007385692779948865\n",
      "\n",
      "  level: 4, grid: 32 x 32\n",
      "  before G-S, residual L2: 1.7280933155235396\n",
      "  after G-S, residual L2: 0.03657676806410805\n",
      "\n",
      "  level: 5, grid: 64 x 64\n",
      "  before G-S, residual L2: 2.609705917946781\n",
      "  after G-S, residual L2: 0.04918033264955986\n",
      "\n",
      "  level: 6, grid: 128 x 128\n",
      "  before G-S, residual L2: 2.897205633139601\n",
      "  after G-S, residual L2: 0.052790732665913206\n",
      "\n",
      "cycle 2: relative err = 2.1803634389910944, residual err = 0.0006486396426304593\n",
      "\n",
      "<<< beginning V-cycle (cycle 3) >>>\n",
      "\n",
      "  level: 6, grid: 128 x 128\n",
      "  before G-S, residual L2: 0.052790732665913206\n",
      "  after G-S, residual L2: 0.05151285072459296\n",
      "\n",
      "  level: 5, grid: 64 x 64\n",
      "  before G-S, residual L2: 0.03642414235588201\n",
      "  after G-S, residual L2: 0.046811291568551565\n",
      "\n",
      "  level: 4, grid: 32 x 32\n",
      "  before G-S, residual L2: 0.033096984133997955\n",
      "  after G-S, residual L2: 0.03183229031793143\n",
      "\n",
      "  level: 3, grid: 16 x 16\n",
      "  before G-S, residual L2: 0.02249751618308268\n",
      "  after G-S, residual L2: 0.006566311349661518\n",
      "\n",
      "  level: 2, grid: 8 x 8\n",
      "  before G-S, residual L2: 0.004631305942476893\n",
      "  after G-S, residual L2: 6.9547898567440375e-06\n",
      "\n",
      "  level: 1, grid: 4 x 4\n",
      "  before G-S, residual L2: 4.792096888289954e-06\n",
      "  after G-S, residual L2: 3.1103329993339164e-16\n",
      "\n",
      "  bottom solve:\n",
      "  level: 0, grid: 2 x 2\n",
      "\n",
      "  level: 1, grid: 4 x 4\n",
      "  before G-S, residual L2: 5.651835066970743e-16\n",
      "  after G-S, residual L2: 3.110334478086524e-16\n",
      "\n",
      "  level: 2, grid: 8 x 8\n",
      "  before G-S, residual L2: 7.63309212749222e-06\n",
      "  after G-S, residual L2: 3.040164302708131e-09\n",
      "\n",
      "  level: 3, grid: 16 x 16\n",
      "  before G-S, residual L2: 0.008648757461907115\n",
      "  after G-S, residual L2: 0.00018948785759489425\n",
      "\n",
      "  level: 4, grid: 32 x 32\n",
      "  before G-S, residual L2: 0.04427890540920815\n",
      "  after G-S, residual L2: 0.0009389342673250312\n",
      "\n",
      "  level: 5, grid: 64 x 64\n",
      "  before G-S, residual L2: 0.06654722333556279\n",
      "  after G-S, residual L2: 0.001258977557235815\n",
      "\n",
      "  level: 6, grid: 128 x 128\n",
      "  before G-S, residual L2: 0.07368186812692719\n",
      "  after G-S, residual L2: 0.0013504077838966668\n",
      "\n",
      "cycle 3: relative err = 0.04844393523164513, residual err = 1.659245814782389e-05\n",
      "\n",
      "<<< beginning V-cycle (cycle 4) >>>\n",
      "\n",
      "  level: 6, grid: 128 x 128\n",
      "  before G-S, residual L2: 0.0013504077838966668\n",
      "  after G-S, residual L2: 0.001317620329624195\n",
      "\n",
      "  level: 5, grid: 64 x 64\n",
      "  before G-S, residual L2: 0.0009316676173486863\n",
      "  after G-S, residual L2: 0.001197647313451651\n",
      "\n",
      "  level: 4, grid: 32 x 32\n",
      "  before G-S, residual L2: 0.0008467506681850972\n",
      "  after G-S, residual L2: 0.0008162390069488267\n",
      "\n",
      "  level: 3, grid: 16 x 16\n",
      "  before G-S, residual L2: 0.0005768371115519472\n",
      "  after G-S, residual L2: 0.00016850178846723594\n",
      "\n",
      "  level: 2, grid: 8 x 8\n",
      "  before G-S, residual L2: 0.00011884018638330391\n",
      "  after G-S, residual L2: 1.7839871956703307e-07\n",
      "\n",
      "  level: 1, grid: 4 x 4\n",
      "  before G-S, residual L2: 1.2292492658967516e-07\n",
      "  after G-S, residual L2: 1.1951673389728944e-15\n",
      "\n",
      "  bottom solve:\n",
      "  level: 0, grid: 2 x 2\n",
      "\n",
      "  level: 1, grid: 4 x 4\n",
      "  before G-S, residual L2: 2.1717563853565473e-15\n",
      "  after G-S, residual L2: 1.1951673343517726e-15\n",
      "\n",
      "  level: 2, grid: 8 x 8\n",
      "  before G-S, residual L2: 1.9580123222794103e-07\n",
      "  after G-S, residual L2: 7.79859303008791e-11\n",
      "\n",
      "  level: 3, grid: 16 x 16\n",
      "  before G-S, residual L2: 0.00022190155431883385\n",
      "  after G-S, residual L2: 4.861726690456497e-06\n",
      "\n",
      "  level: 4, grid: 32 x 32\n",
      "  before G-S, residual L2: 0.0011347029972935902\n",
      "  after G-S, residual L2: 2.4095419570191306e-05\n",
      "\n",
      "  level: 5, grid: 64 x 64\n",
      "  before G-S, residual L2: 0.0017027846806156523\n",
      "  after G-S, residual L2: 3.2358754361395863e-05\n",
      "\n",
      "  level: 6, grid: 128 x 128\n",
      "  before G-S, residual L2: 0.001885972360392655\n",
      "  after G-S, residual L2: 3.4775740488740995e-05\n",
      "\n",
      "cycle 4: relative err = 0.0012759605328310877, residual err = 4.27289464337961e-07\n",
      "\n",
      "<<< beginning V-cycle (cycle 5) >>>\n",
      "\n",
      "  level: 6, grid: 128 x 128\n",
      "  before G-S, residual L2: 3.4775740488740995e-05\n",
      "  after G-S, residual L2: 3.3894284009186236e-05\n",
      "\n",
      "  level: 5, grid: 64 x 64\n",
      "  before G-S, residual L2: 2.3965949325302357e-05\n",
      "  after G-S, residual L2: 3.0729958855242354e-05\n",
      "\n",
      "  level: 4, grid: 32 x 32\n",
      "  before G-S, residual L2: 2.17259634734994e-05\n",
      "  after G-S, residual L2: 2.09217011827885e-05\n",
      "\n",
      "  level: 3, grid: 16 x 16\n",
      "  before G-S, residual L2: 1.4784500190985501e-05\n",
      "  after G-S, residual L2: 4.320982021919078e-06\n",
      "\n",
      "  level: 2, grid: 8 x 8\n",
      "  before G-S, residual L2: 3.0473684683728696e-06\n",
      "  after G-S, residual L2: 4.571730726436375e-09\n",
      "\n",
      "  level: 1, grid: 4 x 4\n",
      "  before G-S, residual L2: 3.1504292593220716e-09\n",
      "  after G-S, residual L2: 6.742021087598803e-16\n",
      "\n",
      "  bottom solve:\n",
      "  level: 0, grid: 2 x 2\n",
      "\n",
      "  level: 1, grid: 4 x 4\n",
      "  before G-S, residual L2: 1.225102696860825e-15\n",
      "  after G-S, residual L2: 6.74202108596908e-16\n",
      "\n",
      "  level: 2, grid: 8 x 8\n",
      "  before G-S, residual L2: 5.01820679645931e-09\n",
      "  after G-S, residual L2: 1.99892977791372e-12\n",
      "\n",
      "  level: 3, grid: 16 x 16\n",
      "  before G-S, residual L2: 5.689722535140836e-06\n",
      "  after G-S, residual L2: 1.2466131778979037e-07\n",
      "\n",
      "  level: 4, grid: 32 x 32\n",
      "  before G-S, residual L2: 2.907069520479966e-05\n",
      "  after G-S, residual L2: 6.180575451431378e-07\n",
      "\n",
      "  level: 5, grid: 64 x 64\n",
      "  before G-S, residual L2: 4.3699213464085597e-05\n",
      "  after G-S, residual L2: 8.346224078015328e-07\n",
      "\n",
      "  level: 6, grid: 128 x 128\n",
      "  before G-S, residual L2: 4.8555682496206175e-05\n",
      "  after G-S, residual L2: 9.008603784927371e-07\n",
      "\n",
      "cycle 5: relative err = 3.301203452101295e-05, residual err = 1.1068869940931348e-08\n",
      "\n",
      "<<< beginning V-cycle (cycle 6) >>>\n",
      "\n",
      "  level: 6, grid: 128 x 128\n",
      "  before G-S, residual L2: 9.008603784927371e-07\n",
      "  after G-S, residual L2: 8.762740716220002e-07\n",
      "\n",
      "  level: 5, grid: 64 x 64\n",
      "  before G-S, residual L2: 6.195925716186319e-07\n",
      "  after G-S, residual L2: 7.904743197253191e-07\n",
      "\n",
      "  level: 4, grid: 32 x 32\n",
      "  before G-S, residual L2: 5.588523688826883e-07\n",
      "  after G-S, residual L2: 5.360094097119108e-07\n",
      "\n",
      "  level: 3, grid: 16 x 16\n",
      "  before G-S, residual L2: 3.7875634421723945e-07\n",
      "  after G-S, residual L2: 1.107319012007519e-07\n",
      "\n",
      "  level: 2, grid: 8 x 8\n",
      "  before G-S, residual L2: 7.809114941671054e-08\n",
      "  after G-S, residual L2: 1.1709550945755286e-10\n",
      "\n",
      "  level: 1, grid: 4 x 4\n",
      "  before G-S, residual L2: 8.069780100392984e-11\n",
      "  after G-S, residual L2: 1.168932677418541e-15\n",
      "\n",
      "  bottom solve:\n",
      "  level: 0, grid: 2 x 2\n",
      "\n",
      "  level: 1, grid: 4 x 4\n",
      "  before G-S, residual L2: 2.124084983634591e-15\n",
      "  after G-S, residual L2: 1.168932677420647e-15\n",
      "\n",
      "  level: 2, grid: 8 x 8\n",
      "  before G-S, residual L2: 1.2854148032666766e-10\n",
      "  after G-S, residual L2: 5.108134353300757e-14\n",
      "\n",
      "  level: 3, grid: 16 x 16\n",
      "  before G-S, residual L2: 1.4579494050910408e-07\n",
      "  after G-S, residual L2: 3.194414195430071e-09\n",
      "\n",
      "  level: 4, grid: 32 x 32\n",
      "  before G-S, residual L2: 7.445198032110184e-07\n",
      "  after G-S, residual L2: 1.5845029015298652e-08\n",
      "\n",
      "  level: 5, grid: 64 x 64\n",
      "  before G-S, residual L2: 1.1243886448682612e-06\n",
      "  after G-S, residual L2: 2.159277837963662e-08\n",
      "\n",
      "  level: 6, grid: 128 x 128\n",
      "  before G-S, residual L2: 1.2565779252968385e-06\n",
      "  after G-S, residual L2: 2.3455645702909965e-08\n",
      "\n",
      "cycle 6: relative err = 8.544249105967869e-07, residual err = 2.881994789253225e-10\n",
      "\n",
      "<<< beginning V-cycle (cycle 7) >>>\n",
      "\n",
      "  level: 6, grid: 128 x 128\n",
      "  before G-S, residual L2: 2.3455645702909965e-08\n",
      "  after G-S, residual L2: 2.2752953502861018e-08\n",
      "\n",
      "  level: 5, grid: 64 x 64\n",
      "  before G-S, residual L2: 1.608798720493313e-08\n",
      "  after G-S, residual L2: 2.0378120843151287e-08\n",
      "\n",
      "  level: 4, grid: 32 x 32\n",
      "  before G-S, residual L2: 1.4406796726849815e-08\n",
      "  after G-S, residual L2: 1.3725200850162448e-08\n",
      "\n",
      "  level: 3, grid: 16 x 16\n",
      "  before G-S, residual L2: 9.698118165355459e-09\n",
      "  after G-S, residual L2: 2.835633070180729e-09\n",
      "\n",
      "  level: 2, grid: 8 x 8\n",
      "  before G-S, residual L2: 1.999713776574159e-09\n",
      "  after G-S, residual L2: 2.997347745650498e-12\n",
      "\n",
      "  level: 1, grid: 4 x 4\n",
      "  before G-S, residual L2: 2.065782447061994e-12\n",
      "  after G-S, residual L2: 2.599100664678084e-16\n",
      "\n",
      "  bottom solve:\n",
      "  level: 0, grid: 2 x 2\n",
      "\n",
      "  level: 1, grid: 4 x 4\n",
      "  before G-S, residual L2: 4.722864540843643e-16\n",
      "  after G-S, residual L2: 2.599100664676744e-16\n",
      "\n",
      "  level: 2, grid: 8 x 8\n",
      "  before G-S, residual L2: 3.2905547307800835e-12\n",
      "  after G-S, residual L2: 1.3070628469669271e-15\n",
      "\n",
      "  level: 3, grid: 16 x 16\n",
      "  before G-S, residual L2: 3.733250557868477e-09\n",
      "  after G-S, residual L2: 8.179790374824944e-11\n",
      "\n",
      "  level: 4, grid: 32 x 32\n",
      "  before G-S, residual L2: 1.90594117759413e-08\n",
      "  after G-S, residual L2: 4.0598517771924617e-10\n",
      "\n",
      "  level: 5, grid: 64 x 64\n",
      "  before G-S, residual L2: 2.8995836832824593e-08\n",
      "  after G-S, residual L2: 5.60076582850891e-10\n",
      "\n",
      "  level: 6, grid: 128 x 128\n",
      "  before G-S, residual L2: 3.266367011998587e-08\n",
      "  after G-S, residual L2: 6.132225264736557e-10\n",
      "\n",
      "cycle 7: relative err = 2.2106792550668474e-08, residual err = 7.534664141565362e-12\n",
      "\n"
     ]
    }
   ],
   "source": [
    "mg.solve(rtol=1.e-11)"
   ]
  },
  {
   "cell_type": "markdown",
   "metadata": {},
   "source": [
    "## Visualizing the solution"
   ]
  },
  {
   "cell_type": "code",
   "execution_count": 14,
   "metadata": {
    "tags": []
   },
   "outputs": [],
   "source": [
    "v = mg.get_solution()"
   ]
  },
  {
   "cell_type": "code",
   "execution_count": 27,
   "metadata": {
    "tags": []
   },
   "outputs": [
    {
     "data": {
      "text/plain": [
       "<matplotlib.colorbar.Colorbar at 0x7f6872804510>"
      ]
     },
     "execution_count": 27,
     "metadata": {},
     "output_type": "execute_result"
    },
    {
     "data": {
      "image/png": "[encoded data removed]",
      "text/plain": [
       "<Figure size 432x288 with 2 Axes>"
      ]
     },
     "metadata": {
      "needs_background": "light"
     },
     "output_type": "display_data"
    }
   ],
   "source": [
    "fig, ax = plt.subplots()\n",
    "\n",
    "im = ax.imshow(np.transpose(v.v()),\n",
    "              interpolation=\"nearest\", origin=\"lower\",\n",
    "              extent=[mg.xmin, mg.xmax, mg.ymin, mg.ymax])\n",
    "fig.colorbar(im, ax=ax)"
   ]
  },
  {
   "cell_type": "markdown",
   "metadata": {},
   "source": [
    "## Comparing to the exact solution"
   ]
  },
  {
   "cell_type": "code",
   "execution_count": 16,
   "metadata": {
    "tags": []
   },
   "outputs": [],
   "source": [
    "phi = true(mg.x2d, mg.y2d)"
   ]
  },
  {
   "cell_type": "markdown",
   "metadata": {},
   "source": [
    "With periodic BCs all around, there is nothing to normalize the solution, so we subtract off the average of $\\phi$ from the MG solution to ensure it is normalized (we'll do the same with the true solution, just to be sure)"
   ]
  },
  {
   "cell_type": "code",
   "execution_count": 21,
   "metadata": {
    "tags": []
   },
   "outputs": [],
   "source": [
    "e = v - np.sum(v.v()) / N**2 - (phi - np.sum(phi[mg.ilo:mg.ihi+1, mg.jlo:mg.jhi+1]) / N**2)"
   ]
  },
  {
   "cell_type": "markdown",
   "metadata": {},
   "source": [
    "Now we can look at the norm of the error:"
   ]
  },
  {
   "cell_type": "code",
   "execution_count": 22,
   "metadata": {
    "tags": []
   },
   "outputs": [
    {
     "data": {
      "text/plain": [
       "9.75498468512499e-05"
      ]
     },
     "execution_count": 22,
     "metadata": {},
     "output_type": "execute_result"
    }
   ],
   "source": [
    "e.norm()"
   ]
  },
  {
   "cell_type": "markdown",
   "metadata": {},
   "source": [
    "and we can plot the error"
   ]
  },
  {
   "cell_type": "code",
   "execution_count": 26,
   "metadata": {
    "tags": []
   },
   "outputs": [
    {
     "data": {
      "text/plain": [
       "<matplotlib.colorbar.Colorbar at 0x7f6872954510>"
      ]
     },
     "execution_count": 26,
     "metadata": {},
     "output_type": "execute_result"
    },
    {
     "data": {
      "image/png": "[encoded data removed]",
      "text/plain": [
       "<Figure size 432x288 with 2 Axes>"
      ]
     },
     "metadata": {
      "needs_background": "light"
     },
     "output_type": "display_data"
    }
   ],
   "source": [
    "fig, ax = plt.subplots()\n",
    "\n",
    "im = ax.imshow(np.transpose(e.v()),\n",
    "               interpolation=\"nearest\", origin=\"lower\",\n",
    "               extent=[mg.xmin, mg.xmax, mg.ymin, mg.ymax])\n",
    "fig.colorbar(im, ax=ax)"
   ]
  }
 ],
 "metadata": {
  "kernelspec": {
   "display_name": "Python 3 (ipykernel)",
   "language": "python",
   "name": "python3"
  },
  "language_info": {
   "codemirror_mode": {
    "name": "ipython",
    "version": 3
   },
   "file_extension": ".py",
   "mimetype": "text/x-python",
   "name": "python",
   "nbconvert_exporter": "python",
   "pygments_lexer": "ipython3",
   "version": "3.11.2"
  }
 },
 "nbformat": 4,
 "nbformat_minor": 4
}
