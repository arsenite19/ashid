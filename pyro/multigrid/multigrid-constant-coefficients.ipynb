{
 "cells": [
  {
   "cell_type": "markdown",
   "metadata": {},
   "source": [
    "# Constant-Coefficient Poisson Equation"
   ]
  },
  {
   "cell_type": "markdown",
   "metadata": {},
   "source": [
    "We want to solve \n",
    "\n",
    "$$\\phi_{xx} + \\phi_{yy} = -2[(1-6x^2)y^2(1-y^2) + (1-6y^2)x^2(1-x^2)]$$\n",
    "\n",
    "on \n",
    "\n",
    "$$[0,1]\\times [0,1]$$ \n",
    "\n",
    "with homogeneous Dirichlet boundary conditions (this example comes from _A Multigrid Tutorial_).\n",
    "\n",
    "This has the analytic solution\n",
    "$$u(x,y) = (x^2 - x^4)(y^4 - y^2)$$"
   ]
  },
  {
   "cell_type": "code",
   "execution_count": 1,
   "metadata": {
    "tags": []
   },
   "outputs": [],
   "source": [
    "import numpy as np\n",
    "import matplotlib.pyplot as plt"
   ]
  },
  {
   "cell_type": "markdown",
   "metadata": {},
   "source": [
    "## Setting up the solver\n",
    "\n",
    "We start by setting up a multigrid object&mdash;this needs to know the number of zones our problem is defined on"
   ]
  },
  {
   "cell_type": "code",
   "execution_count": 2,
   "metadata": {
    "tags": []
   },
   "outputs": [],
   "source": [
    "import pyro.multigrid.MG as MG"
   ]
  },
  {
   "cell_type": "code",
   "execution_count": 3,
   "metadata": {
    "tags": []
   },
   "outputs": [
    {
     "name": "stdout",
     "output_type": "stream",
     "text": [
      "cc data: nx = 2, ny = 2, ng = 1\n",
      "         nvars = 3\n",
      "         variables:\n",
      "               v: min:    0.0000000000    max:    0.0000000000\n",
      "                  BCs: -x: dirichlet    +x: dirichlet    -y: dirichlet    +y: dirichlet   \n",
      "               f: min:    0.0000000000    max:    0.0000000000\n",
      "                  BCs: -x: dirichlet    +x: dirichlet    -y: dirichlet    +y: dirichlet   \n",
      "               r: min:    0.0000000000    max:    0.0000000000\n",
      "                  BCs: -x: dirichlet    +x: dirichlet    -y: dirichlet    +y: dirichlet   \n",
      "\n",
      "cc data: nx = 4, ny = 4, ng = 1\n",
      "         nvars = 3\n",
      "         variables:\n",
      "               v: min:    0.0000000000    max:    0.0000000000\n",
      "                  BCs: -x: dirichlet    +x: dirichlet    -y: dirichlet    +y: dirichlet   \n",
      "               f: min:    0.0000000000    max:    0.0000000000\n",
      "                  BCs: -x: dirichlet    +x: dirichlet    -y: dirichlet    +y: dirichlet   \n",
      "               r: min:    0.0000000000    max:    0.0000000000\n",
      "                  BCs: -x: dirichlet    +x: dirichlet    -y: dirichlet    +y: dirichlet   \n",
      "\n",
      "cc data: nx = 8, ny = 8, ng = 1\n",
      "         nvars = 3\n",
      "         variables:\n",
      "               v: min:    0.0000000000    max:    0.0000000000\n",
      "                  BCs: -x: dirichlet    +x: dirichlet    -y: dirichlet    +y: dirichlet   \n",
      "               f: min:    0.0000000000    max:    0.0000000000\n",
      "                  BCs: -x: dirichlet    +x: dirichlet    -y: dirichlet    +y: dirichlet   \n",
      "               r: min:    0.0000000000    max:    0.0000000000\n",
      "                  BCs: -x: dirichlet    +x: dirichlet    -y: dirichlet    +y: dirichlet   \n",
      "\n",
      "cc data: nx = 16, ny = 16, ng = 1\n",
      "         nvars = 3\n",
      "         variables:\n",
      "               v: min:    0.0000000000    max:    0.0000000000\n",
      "                  BCs: -x: dirichlet    +x: dirichlet    -y: dirichlet    +y: dirichlet   \n",
      "               f: min:    0.0000000000    max:    0.0000000000\n",
      "                  BCs: -x: dirichlet    +x: dirichlet    -y: dirichlet    +y: dirichlet   \n",
      "               r: min:    0.0000000000    max:    0.0000000000\n",
      "                  BCs: -x: dirichlet    +x: dirichlet    -y: dirichlet    +y: dirichlet   \n",
      "\n",
      "cc data: nx = 32, ny = 32, ng = 1\n",
      "         nvars = 3\n",
      "         variables:\n",
      "               v: min:    0.0000000000    max:    0.0000000000\n",
      "                  BCs: -x: dirichlet    +x: dirichlet    -y: dirichlet    +y: dirichlet   \n",
      "               f: min:    0.0000000000    max:    0.0000000000\n",
      "                  BCs: -x: dirichlet    +x: dirichlet    -y: dirichlet    +y: dirichlet   \n",
      "               r: min:    0.0000000000    max:    0.0000000000\n",
      "                  BCs: -x: dirichlet    +x: dirichlet    -y: dirichlet    +y: dirichlet   \n",
      "\n",
      "cc data: nx = 64, ny = 64, ng = 1\n",
      "         nvars = 3\n",
      "         variables:\n",
      "               v: min:    0.0000000000    max:    0.0000000000\n",
      "                  BCs: -x: dirichlet    +x: dirichlet    -y: dirichlet    +y: dirichlet   \n",
      "               f: min:    0.0000000000    max:    0.0000000000\n",
      "                  BCs: -x: dirichlet    +x: dirichlet    -y: dirichlet    +y: dirichlet   \n",
      "               r: min:    0.0000000000    max:    0.0000000000\n",
      "                  BCs: -x: dirichlet    +x: dirichlet    -y: dirichlet    +y: dirichlet   \n",
      "\n",
      "cc data: nx = 128, ny = 128, ng = 1\n",
      "         nvars = 3\n",
      "         variables:\n",
      "               v: min:    0.0000000000    max:    0.0000000000\n",
      "                  BCs: -x: dirichlet    +x: dirichlet    -y: dirichlet    +y: dirichlet   \n",
      "               f: min:    0.0000000000    max:    0.0000000000\n",
      "                  BCs: -x: dirichlet    +x: dirichlet    -y: dirichlet    +y: dirichlet   \n",
      "               r: min:    0.0000000000    max:    0.0000000000\n",
      "                  BCs: -x: dirichlet    +x: dirichlet    -y: dirichlet    +y: dirichlet   \n",
      "\n",
      "cc data: nx = 256, ny = 256, ng = 1\n",
      "         nvars = 3\n",
      "         variables:\n",
      "               v: min:    0.0000000000    max:    0.0000000000\n",
      "                  BCs: -x: dirichlet    +x: dirichlet    -y: dirichlet    +y: dirichlet   \n",
      "               f: min:    0.0000000000    max:    0.0000000000\n",
      "                  BCs: -x: dirichlet    +x: dirichlet    -y: dirichlet    +y: dirichlet   \n",
      "               r: min:    0.0000000000    max:    0.0000000000\n",
      "                  BCs: -x: dirichlet    +x: dirichlet    -y: dirichlet    +y: dirichlet   \n",
      "\n"
     ]
    }
   ],
   "source": [
    "nx = ny = 256\n",
    "mg = MG.CellCenterMG2d(nx, ny, \n",
    "                       xl_BC_type=\"dirichlet\", xr_BC_type=\"dirichlet\",\n",
    "                       yl_BC_type=\"dirichlet\", yr_BC_type=\"dirichlet\", verbose=1)"
   ]
  },
  {
   "cell_type": "markdown",
   "metadata": {},
   "source": [
    "Next, we initialize the RHS.  To make life easier, the `CellCenterMG2d` object has the coordinates of the solution grid (including ghost cells) as `mg.x2d` and `mg.y2d` (these are two-dimensional arrays)."
   ]
  },
  {
   "cell_type": "code",
   "execution_count": 4,
   "metadata": {
    "tags": []
   },
   "outputs": [],
   "source": [
    "def rhs(x, y):\n",
    "    return -2.0 * ((1.0 - 6.0 * x**2) * y**2 * (1.0 - y**2) +\n",
    "                   (1.0 - 6.0 * y**2) * x**2 * (1.0 - x**2))"
   ]
  },
  {
   "cell_type": "code",
   "execution_count": 5,
   "metadata": {
    "tags": []
   },
   "outputs": [
    {
     "name": "stdout",
     "output_type": "stream",
     "text": [
      "Source norm =  1.097515813669473\n"
     ]
    }
   ],
   "source": [
    "mg.init_RHS(rhs(mg.x2d, mg.y2d))"
   ]
  },
  {
   "cell_type": "markdown",
   "metadata": {},
   "source": [
    "The last setup step is to initialize the solution--this is the starting point for the solve.  Usually we just want to start with all zeros, so we use the `init_zeros()` method"
   ]
  },
  {
   "cell_type": "code",
   "execution_count": 6,
   "metadata": {
    "tags": []
   },
   "outputs": [],
   "source": [
    "mg.init_zeros()"
   ]
  },
  {
   "cell_type": "markdown",
   "metadata": {},
   "source": [
    "## Performing the solve"
   ]
  },
  {
   "cell_type": "markdown",
   "metadata": {},
   "source": [
    "We can now solve&mdash;there are actually two different techniques we can do here.  We can just do pure smoothing on the solution grid using `mg.smooth(mg.nlevels-1, N)`, where `N` is the number of smoothing iterations.  To get the solution `N` will need to be large and this will take a long time.\n",
    "\n",
    "Multigrid accelerates the smoothing.  We can do a V-cycle multigrid solution using `mg.solve()`"
   ]
  },
  {
   "cell_type": "code",
   "execution_count": 7,
   "metadata": {
    "tags": []
   },
   "outputs": [
    {
     "name": "stdout",
     "output_type": "stream",
     "text": [
      "source norm =  1.097515813669473\n",
      "<<< beginning V-cycle (cycle 1) >>>\n",
      "\n",
      "  level: 7, grid: 256 x 256\n",
      "  before G-S, residual L2: 1.097515813669473\n",
      "  after G-S, residual L2: 1.502308451578657\n",
      "\n",
      "  level: 6, grid: 128 x 128\n",
      "  before G-S, residual L2: 1.0616243965458263\n",
      "  after G-S, residual L2: 1.4321452257629033\n",
      "\n",
      "  level: 5, grid: 64 x 64\n",
      "  before G-S, residual L2: 1.011366277976364\n",
      "  after G-S, residual L2: 1.281872470375375\n",
      "\n",
      "  level: 4, grid: 32 x 32\n",
      "  before G-S, residual L2: 0.903531158162907\n",
      "  after G-S, residual L2: 0.9607576999783505\n",
      "\n",
      "  level: 3, grid: 16 x 16\n",
      "  before G-S, residual L2: 0.6736112182020367\n",
      "  after G-S, residual L2: 0.4439774050299674\n",
      "\n",
      "  level: 2, grid: 8 x 8\n",
      "  before G-S, residual L2: 0.30721142286171554\n",
      "  after G-S, residual L2: 0.0727215591269748\n",
      "\n",
      "  level: 1, grid: 4 x 4\n",
      "  before G-S, residual L2: 0.04841813458618458\n",
      "  after G-S, residual L2: 3.9610700301811246e-05\n",
      "\n",
      "  bottom solve:\n",
      "  level: 0, grid: 2 x 2\n",
      "\n",
      "  level: 1, grid: 4 x 4\n",
      "  before G-S, residual L2: 3.925006722484123e-05\n",
      "  after G-S, residual L2: 1.0370099820862674e-09\n",
      "\n",
      "  level: 2, grid: 8 x 8\n",
      "  before G-S, residual L2: 0.07010129273961899\n",
      "  after G-S, residual L2: 0.0008815704830693547\n",
      "\n",
      "  level: 3, grid: 16 x 16\n",
      "  before G-S, residual L2: 0.4307377377402105\n",
      "  after G-S, residual L2: 0.007174899576794818\n",
      "\n",
      "  level: 4, grid: 32 x 32\n",
      "  before G-S, residual L2: 0.911086486792154\n",
      "  after G-S, residual L2: 0.01618756602227813\n",
      "\n",
      "  level: 5, grid: 64 x 64\n",
      "  before G-S, residual L2: 1.1945438349788615\n",
      "  after G-S, residual L2: 0.022021327892004925\n",
      "\n",
      "  level: 6, grid: 128 x 128\n",
      "  before G-S, residual L2: 1.313456560108626\n",
      "  after G-S, residual L2: 0.02518650395173617\n",
      "\n",
      "  level: 7, grid: 256 x 256\n",
      "  before G-S, residual L2: 1.3618314516335004\n",
      "  after G-S, residual L2: 0.026870007568672097\n",
      "\n",
      "cycle 1: relative err = 0.999999999999964, residual err = 0.02448256984911586\n",
      "\n",
      "<<< beginning V-cycle (cycle 2) >>>\n",
      "\n",
      "  level: 7, grid: 256 x 256\n",
      "  before G-S, residual L2: 0.026870007568672097\n",
      "  after G-S, residual L2: 0.025790216249923552\n",
      "\n",
      "  level: 6, grid: 128 x 128\n",
      "  before G-S, residual L2: 0.018218080204017304\n",
      "  after G-S, residual L2: 0.023654310121915274\n",
      "\n",
      "  level: 5, grid: 64 x 64\n",
      "  before G-S, residual L2: 0.01669077991582338\n",
      "  after G-S, residual L2: 0.01977335201785163\n",
      "\n",
      "  level: 4, grid: 32 x 32\n",
      "  before G-S, residual L2: 0.013922595404814862\n",
      "  after G-S, residual L2: 0.013577568890182053\n",
      "\n",
      "  level: 3, grid: 16 x 16\n",
      "  before G-S, residual L2: 0.009518306167970536\n",
      "  after G-S, residual L2: 0.006115159484497302\n",
      "\n",
      "  level: 2, grid: 8 x 8\n",
      "  before G-S, residual L2: 0.004244630812032651\n",
      "  after G-S, residual L2: 0.0010674120586864006\n",
      "\n",
      "  level: 1, grid: 4 x 4\n",
      "  before G-S, residual L2: 0.0007108144252738053\n",
      "  after G-S, residual L2: 5.818246254772703e-07\n",
      "\n",
      "  bottom solve:\n",
      "  level: 0, grid: 2 x 2\n",
      "\n",
      "  level: 1, grid: 4 x 4\n",
      "  before G-S, residual L2: 5.765281065294632e-07\n",
      "  after G-S, residual L2: 1.5231212503339452e-11\n",
      "\n",
      "  level: 2, grid: 8 x 8\n",
      "  before G-S, residual L2: 0.0010291471590693868\n",
      "  after G-S, residual L2: 1.2950948742201083e-05\n",
      "\n",
      "  level: 3, grid: 16 x 16\n",
      "  before G-S, residual L2: 0.006239446983842889\n",
      "  after G-S, residual L2: 0.00010483463130232172\n",
      "\n",
      "  level: 4, grid: 32 x 32\n",
      "  before G-S, residual L2: 0.014573363314854\n",
      "  after G-S, residual L2: 0.00026233988398787004\n",
      "\n",
      "  level: 5, grid: 64 x 64\n",
      "  before G-S, residual L2: 0.021564270263952755\n",
      "  after G-S, residual L2: 0.0003944827058086955\n",
      "\n",
      "  level: 6, grid: 128 x 128\n",
      "  before G-S, residual L2: 0.02579092712136628\n",
      "  after G-S, residual L2: 0.00048636495715121916\n",
      "\n",
      "  level: 7, grid: 256 x 256\n",
      "  before G-S, residual L2: 0.028051324215592862\n",
      "  after G-S, residual L2: 0.0005440874957950154\n",
      "\n",
      "cycle 2: relative err = 13.739483825281054, residual err = 0.0004957445615074047\n",
      "\n",
      "<<< beginning V-cycle (cycle 3) >>>\n",
      "\n",
      "  level: 7, grid: 256 x 256\n",
      "  before G-S, residual L2: 0.0005440874957950154\n",
      "  after G-S, residual L2: 0.0005095844930046698\n",
      "\n",
      "  level: 6, grid: 128 x 128\n",
      "  before G-S, residual L2: 0.0003597879816772893\n",
      "  after G-S, residual L2: 0.00044648485218937167\n",
      "\n",
      "  level: 5, grid: 64 x 64\n",
      "  before G-S, residual L2: 0.0003147892995472901\n",
      "  after G-S, residual L2: 0.0003492541721056348\n",
      "\n",
      "  level: 4, grid: 32 x 32\n",
      "  before G-S, residual L2: 0.0002457276904804801\n",
      "  after G-S, residual L2: 0.00022232862524233384\n",
      "\n",
      "  level: 3, grid: 16 x 16\n",
      "  before G-S, residual L2: 0.0001558932199490972\n",
      "  after G-S, residual L2: 9.511093023364078e-05\n",
      "\n",
      "  level: 2, grid: 8 x 8\n",
      "  before G-S, residual L2: 6.616899520585456e-05\n",
      "  after G-S, residual L2: 1.711006102346096e-05\n",
      "\n",
      "  level: 1, grid: 4 x 4\n",
      "  before G-S, residual L2: 1.139522901981679e-05\n",
      "  after G-S, residual L2: 9.33004809910226e-09\n",
      "\n",
      "  bottom solve:\n",
      "  level: 0, grid: 2 x 2\n",
      "\n",
      "  level: 1, grid: 4 x 4\n",
      "  before G-S, residual L2: 9.245125097272049e-09\n",
      "  after G-S, residual L2: 2.442311694447821e-13\n",
      "\n",
      "  level: 2, grid: 8 x 8\n",
      "  before G-S, residual L2: 1.64991725637487e-05\n",
      "  after G-S, residual L2: 2.0771258971860784e-07\n",
      "\n",
      "  level: 3, grid: 16 x 16\n",
      "  before G-S, residual L2: 0.00010097720436460624\n",
      "  after G-S, residual L2: 1.7241727900979902e-06\n",
      "\n",
      "  level: 4, grid: 32 x 32\n",
      "  before G-S, residual L2: 0.0002575410544503153\n",
      "  after G-S, residual L2: 4.766282851613449e-06\n",
      "\n",
      "  level: 5, grid: 64 x 64\n",
      "  before G-S, residual L2: 0.00041133882050328275\n",
      "  after G-S, residual L2: 7.600616845344458e-06\n",
      "\n",
      "  level: 6, grid: 128 x 128\n",
      "  before G-S, residual L2: 0.0005232809692242086\n",
      "  after G-S, residual L2: 9.860758095018993e-06\n",
      "\n",
      "  level: 7, grid: 256 x 256\n",
      "  before G-S, residual L2: 0.0005945070122423073\n",
      "  after G-S, residual L2: 1.1466134915427874e-05\n",
      "\n",
      "cycle 3: relative err = 34.347638624909216, residual err = 1.0447352805871284e-05\n",
      "\n",
      "<<< beginning V-cycle (cycle 4) >>>\n",
      "\n",
      "  level: 7, grid: 256 x 256\n",
      "  before G-S, residual L2: 1.1466134915427874e-05\n",
      "  after G-S, residual L2: 1.054466722279011e-05\n",
      "\n",
      "  level: 6, grid: 128 x 128\n",
      "  before G-S, residual L2: 7.442814693866286e-06\n",
      "  after G-S, residual L2: 8.955050475722099e-06\n",
      "\n",
      "  level: 5, grid: 64 x 64\n",
      "  before G-S, residual L2: 6.311313968968047e-06\n",
      "  after G-S, residual L2: 6.734553609148436e-06\n",
      "\n",
      "  level: 4, grid: 32 x 32\n",
      "  before G-S, residual L2: 4.737984987500691e-06\n",
      "  after G-S, residual L2: 4.091799997658277e-06\n",
      "\n",
      "  level: 3, grid: 16 x 16\n",
      "  before G-S, residual L2: 2.871028473858937e-06\n",
      "  after G-S, residual L2: 1.6319551993366253e-06\n",
      "\n",
      "  level: 2, grid: 8 x 8\n",
      "  before G-S, residual L2: 1.1372178077508109e-06\n",
      "  after G-S, residual L2: 2.961040430099916e-07\n",
      "\n",
      "  level: 1, grid: 4 x 4\n",
      "  before G-S, residual L2: 1.9721864323458624e-07\n",
      "  after G-S, residual L2: 1.61503943872384e-10\n",
      "\n",
      "  bottom solve:\n",
      "  level: 0, grid: 2 x 2\n",
      "\n",
      "  level: 1, grid: 4 x 4\n",
      "  before G-S, residual L2: 1.6003411195777404e-10\n",
      "  after G-S, residual L2: 4.2274326344473505e-15\n",
      "\n",
      "  level: 2, grid: 8 x 8\n",
      "  before G-S, residual L2: 2.855691101825338e-07\n",
      "  after G-S, residual L2: 3.5961118754371857e-09\n",
      "\n",
      "  level: 3, grid: 16 x 16\n",
      "  before G-S, residual L2: 1.7893831203170535e-06\n",
      "  after G-S, residual L2: 3.1136282101831173e-08\n",
      "\n",
      "  level: 4, grid: 32 x 32\n",
      "  before G-S, residual L2: 4.97129807196115e-06\n",
      "  after G-S, residual L2: 9.544819739422644e-08\n",
      "\n",
      "  level: 5, grid: 64 x 64\n",
      "  before G-S, residual L2: 8.281644276572538e-06\n",
      "  after G-S, residual L2: 1.56637783149839e-07\n",
      "\n",
      "  level: 6, grid: 128 x 128\n",
      "  before G-S, residual L2: 1.0888850082357996e-05\n",
      "  after G-S, residual L2: 2.0777271327080248e-07\n",
      "\n",
      "  level: 7, grid: 256 x 256\n",
      "  before G-S, residual L2: 1.2717522622400765e-05\n",
      "  after G-S, residual L2: 2.464531349025277e-07\n",
      "\n",
      "cycle 4: relative err = 0.17409776671446628, residual err = 2.24555429482631e-07\n",
      "\n",
      "<<< beginning V-cycle (cycle 5) >>>\n",
      "\n",
      "  level: 7, grid: 256 x 256\n",
      "  before G-S, residual L2: 2.464531349025277e-07\n",
      "  after G-S, residual L2: 2.2491138140311698e-07\n",
      "\n",
      "  level: 6, grid: 128 x 128\n",
      "  before G-S, residual L2: 1.5874562191875262e-07\n",
      "  after G-S, residual L2: 1.886249099391391e-07\n",
      "\n",
      "  level: 5, grid: 64 x 64\n",
      "  before G-S, residual L2: 1.3294481979637655e-07\n",
      "  after G-S, residual L2: 1.397710191717015e-07\n",
      "\n",
      "  level: 4, grid: 32 x 32\n",
      "  before G-S, residual L2: 9.836928907527788e-08\n",
      "  after G-S, residual L2: 8.269030961692836e-08\n",
      "\n",
      "  level: 3, grid: 16 x 16\n",
      "  before G-S, residual L2: 5.8062531341283565e-08\n",
      "  after G-S, residual L2: 3.034725896415429e-08\n",
      "\n",
      "  level: 2, grid: 8 x 8\n",
      "  before G-S, residual L2: 2.116912379336852e-08\n",
      "  after G-S, residual L2: 5.467519592468213e-09\n",
      "\n",
      "  level: 1, grid: 4 x 4\n",
      "  before G-S, residual L2: 3.6418116003284676e-09\n",
      "  after G-S, residual L2: 2.982625229812215e-12\n",
      "\n",
      "  bottom solve:\n",
      "  level: 0, grid: 2 x 2\n",
      "\n",
      "  level: 1, grid: 4 x 4\n",
      "  before G-S, residual L2: 2.955484162036181e-12\n",
      "  after G-S, residual L2: 7.806739482450516e-17\n",
      "\n",
      "  level: 2, grid: 8 x 8\n",
      "  before G-S, residual L2: 5.273610709946236e-09\n",
      "  after G-S, residual L2: 6.642323465658688e-11\n",
      "\n",
      "  level: 3, grid: 16 x 16\n",
      "  before G-S, residual L2: 3.4146989205844565e-08\n",
      "  after G-S, residual L2: 6.052228076583688e-10\n",
      "\n",
      "  level: 4, grid: 32 x 32\n",
      "  before G-S, residual L2: 1.031248597196911e-07\n",
      "  after G-S, residual L2: 2.0541497445308587e-09\n",
      "\n",
      "  level: 5, grid: 64 x 64\n",
      "  before G-S, residual L2: 1.7585349306604133e-07\n",
      "  after G-S, residual L2: 3.421022608879089e-09\n",
      "\n",
      "  level: 6, grid: 128 x 128\n",
      "  before G-S, residual L2: 2.3383756442516674e-07\n",
      "  after G-S, residual L2: 4.552170797983864e-09\n",
      "\n",
      "  level: 7, grid: 256 x 256\n",
      "  before G-S, residual L2: 2.7592842790687426e-07\n",
      "  after G-S, residual L2: 5.41488950707315e-09\n",
      "\n",
      "cycle 5: relative err = 0.005391244339065405, residual err = 4.933769007818501e-09\n",
      "\n",
      "<<< beginning V-cycle (cycle 6) >>>\n",
      "\n",
      "  level: 7, grid: 256 x 256\n",
      "  before G-S, residual L2: 5.41488950707315e-09\n",
      "  after G-S, residual L2: 4.948141362729419e-09\n",
      "\n",
      "  level: 6, grid: 128 x 128\n",
      "  before G-S, residual L2: 3.4929583962703016e-09\n",
      "  after G-S, residual L2: 4.154445183511443e-09\n",
      "\n",
      "  level: 5, grid: 64 x 64\n",
      "  before G-S, residual L2: 2.9288841397931397e-09\n",
      "  after G-S, residual L2: 3.074779198797186e-09\n",
      "\n",
      "  level: 4, grid: 32 x 32\n",
      "  before G-S, residual L2: 2.164991235492634e-09\n",
      "  after G-S, residual L2: 1.788028730183651e-09\n",
      "\n",
      "  level: 3, grid: 16 x 16\n",
      "  before G-S, residual L2: 1.2562223343389894e-09\n",
      "  after G-S, residual L2: 6.021983813990021e-10\n",
      "\n",
      "  level: 2, grid: 8 x 8\n",
      "  before G-S, residual L2: 4.2028073688787063e-10\n",
      "  after G-S, residual L2: 1.0655724637281067e-10\n",
      "\n",
      "  level: 1, grid: 4 x 4\n",
      "  before G-S, residual L2: 7.097871736854444e-11\n",
      "  after G-S, residual L2: 5.813506543301849e-14\n",
      "\n",
      "  bottom solve:\n",
      "  level: 0, grid: 2 x 2\n",
      "\n",
      "  level: 1, grid: 4 x 4\n",
      "  before G-S, residual L2: 5.760611936011378e-14\n",
      "  after G-S, residual L2: 1.521555112430923e-18\n",
      "\n",
      "  level: 2, grid: 8 x 8\n",
      "  before G-S, residual L2: 1.027891920456506e-10\n",
      "  after G-S, residual L2: 1.294879454701896e-12\n",
      "\n",
      "  level: 3, grid: 16 x 16\n",
      "  before G-S, residual L2: 6.914011940773812e-10\n",
      "  after G-S, residual L2: 1.2453691230551983e-11\n",
      "\n",
      "  level: 4, grid: 32 x 32\n",
      "  before G-S, residual L2: 2.2570491487662195e-09\n",
      "  after G-S, residual L2: 4.639035392364569e-11\n",
      "\n",
      "  level: 5, grid: 64 x 64\n",
      "  before G-S, residual L2: 3.908967396962745e-09\n",
      "  after G-S, residual L2: 7.803740782474827e-11\n",
      "\n",
      "  level: 6, grid: 128 x 128\n",
      "  before G-S, residual L2: 5.196394306272565e-09\n",
      "  after G-S, residual L2: 1.033274523100204e-10\n",
      "\n",
      "  level: 7, grid: 256 x 256\n",
      "  before G-S, residual L2: 6.117636729623554e-09\n",
      "  after G-S, residual L2: 1.2199402602477584e-10\n",
      "\n",
      "cycle 6: relative err = 7.51413991329132e-05, residual err = 1.111546863428753e-10\n",
      "\n",
      "<<< beginning V-cycle (cycle 7) >>>\n",
      "\n",
      "  level: 7, grid: 256 x 256\n",
      "  before G-S, residual L2: 1.2199402602477584e-10\n",
      "  after G-S, residual L2: 1.121992266879251e-10\n",
      "\n",
      "  level: 6, grid: 128 x 128\n",
      "  before G-S, residual L2: 7.921861122082639e-11\n",
      "  after G-S, residual L2: 9.493449600138316e-11\n",
      "\n",
      "  level: 5, grid: 64 x 64\n",
      "  before G-S, residual L2: 6.694993398453784e-11\n",
      "  after G-S, residual L2: 7.050995614737483e-11\n",
      "\n",
      "  level: 4, grid: 32 x 32\n",
      "  before G-S, residual L2: 4.9666563586565975e-11\n",
      "  after G-S, residual L2: 4.045094776680348e-11\n",
      "\n",
      "  level: 3, grid: 16 x 16\n",
      "  before G-S, residual L2: 2.843147343834713e-11\n",
      "  after G-S, residual L2: 1.2576313722677801e-11\n",
      "\n",
      "  level: 2, grid: 8 x 8\n",
      "  before G-S, residual L2: 8.777954081387978e-12\n",
      "  after G-S, residual L2: 2.170559196862902e-12\n",
      "\n",
      "  level: 1, grid: 4 x 4\n",
      "  before G-S, residual L2: 1.445876195415056e-12\n",
      "  after G-S, residual L2: 1.1842925278593641e-15\n",
      "\n",
      "  bottom solve:\n",
      "  level: 0, grid: 2 x 2\n",
      "\n",
      "  level: 1, grid: 4 x 4\n",
      "  before G-S, residual L2: 1.1735184729034125e-15\n",
      "  after G-S, residual L2: 3.0994757710835167e-20\n",
      "\n",
      "  level: 2, grid: 8 x 8\n",
      "  before G-S, residual L2: 2.094012660676073e-12\n",
      "  after G-S, residual L2: 2.6382579574150587e-14\n",
      "\n",
      "  level: 3, grid: 16 x 16\n",
      "  before G-S, residual L2: 1.466147487151147e-11\n",
      "  after G-S, residual L2: 2.6760553592700965e-13\n",
      "\n",
      "  level: 4, grid: 32 x 32\n",
      "  before G-S, residual L2: 5.130705216489902e-11\n",
      "  after G-S, residual L2: 1.0810419626613159e-12\n",
      "\n",
      "  level: 5, grid: 64 x 64\n",
      "  before G-S, residual L2: 9.001551103280705e-11\n",
      "  after G-S, residual L2: 1.8342879121275396e-12\n",
      "\n",
      "  level: 6, grid: 128 x 128\n",
      "  before G-S, residual L2: 1.1914921193827463e-10\n",
      "  after G-S, residual L2: 2.4124327865487605e-12\n",
      "\n",
      "  level: 7, grid: 256 x 256\n",
      "  before G-S, residual L2: 1.3907209384461257e-10\n",
      "  after G-S, residual L2: 2.8429898342353533e-12\n",
      "\n",
      "cycle 7: relative err = 7.062255558417692e-07, residual err = 2.590386214782638e-12\n",
      "\n"
     ]
    }
   ],
   "source": [
    "mg.solve()"
   ]
  },
  {
   "cell_type": "markdown",
   "metadata": {},
   "source": [
    "## Plotting the solution"
   ]
  },
  {
   "cell_type": "markdown",
   "metadata": {},
   "source": [
    "We can access the solution on the finest grid using `get_solution()`"
   ]
  },
  {
   "cell_type": "code",
   "execution_count": 8,
   "metadata": {
    "tags": []
   },
   "outputs": [],
   "source": [
    "phi = mg.get_solution()"
   ]
  },
  {
   "cell_type": "code",
   "execution_count": 9,
   "metadata": {
    "tags": [
     "nbval-ignore-output"
    ]
   },
   "outputs": [
    {
     "data": {
      "text/plain": [
       "<matplotlib.image.AxesImage at 0x7fa429e8fe10>"
      ]
     },
     "execution_count": 9,
     "metadata": {},
     "output_type": "execute_result"
    },
    {
     "data": {
      "image/png": "[encoded data removed]",
      "text/plain": [
       "<Figure size 432x288 with 1 Axes>"
      ]
     },
     "metadata": {
      "needs_background": "light"
     },
     "output_type": "display_data"
    }
   ],
   "source": [
    "fig, ax = plt.subplots()\n",
    "ax.imshow(np.transpose(phi.v()), origin=\"lower\")"
   ]
  },
  {
   "cell_type": "markdown",
   "metadata": {},
   "source": [
    "We can also get the gradient of the solution"
   ]
  },
  {
   "cell_type": "code",
   "execution_count": 10,
   "metadata": {
    "tags": []
   },
   "outputs": [],
   "source": [
    "gx, gy = mg.get_solution_gradient()"
   ]
  },
  {
   "cell_type": "code",
   "execution_count": 11,
   "metadata": {
    "tags": [
     "nbval-ignore-output"
    ]
   },
   "outputs": [
    {
     "data": {
      "text/plain": [
       "<matplotlib.image.AxesImage at 0x7fa429ed0bd0>"
      ]
     },
     "execution_count": 11,
     "metadata": {},
     "output_type": "execute_result"
    },
    {
     "data": {
      "image/png": "[encoded data removed]",
      "text/plain": [
       "<Figure size 432x288 with 2 Axes>"
      ]
     },
     "metadata": {
      "needs_background": "light"
     },
     "output_type": "display_data"
    }
   ],
   "source": [
    "fig = plt.figure()\n",
    "\n",
    "ax = fig.add_subplot(121)\n",
    "ax.imshow(np.transpose(gx.v()), origin=\"lower\")\n",
    "\n",
    "ax = fig.add_subplot(122)\n",
    "ax.imshow(np.transpose(gy.v()), origin=\"lower\")"
   ]
  }
 ],
 "metadata": {
  "kernelspec": {
   "display_name": "Python 3 (ipykernel)",
   "language": "python",
   "name": "python3"
  },
  "language_info": {
   "codemirror_mode": {
    "name": "ipython",
    "version": 3
   },
   "file_extension": ".py",
   "mimetype": "text/x-python",
   "name": "python",
   "nbconvert_exporter": "python",
   "pygments_lexer": "ipython3",
   "version": "3.11.2"
  }
 },
 "nbformat": 4,
 "nbformat_minor": 4
}
